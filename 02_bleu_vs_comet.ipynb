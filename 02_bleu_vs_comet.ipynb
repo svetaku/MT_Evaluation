{
 "cells": [
  {
   "cell_type": "code",
   "execution_count": 9,
   "metadata": {},
   "outputs": [],
   "source": [
    "import evaluate\n",
    "import pandas as pd\n",
    "import matplotlib.pyplot as plt\n",
    "import seaborn as sns"
   ]
  },
  {
   "cell_type": "code",
   "execution_count": 57,
   "metadata": {},
   "outputs": [
    {
     "data": {
      "text/html": [
       "<div>\n",
       "<style scoped>\n",
       "    .dataframe tbody tr th:only-of-type {\n",
       "        vertical-align: middle;\n",
       "    }\n",
       "\n",
       "    .dataframe tbody tr th {\n",
       "        vertical-align: top;\n",
       "    }\n",
       "\n",
       "    .dataframe thead th {\n",
       "        text-align: right;\n",
       "    }\n",
       "</style>\n",
       "<table border=\"1\" class=\"dataframe\">\n",
       "  <thead>\n",
       "    <tr style=\"text-align: right;\">\n",
       "      <th></th>\n",
       "      <th>field</th>\n",
       "      <th>title</th>\n",
       "      <th>en_text</th>\n",
       "      <th>ru_human_translation</th>\n",
       "      <th>prompt</th>\n",
       "      <th>ru_machine_translation</th>\n",
       "    </tr>\n",
       "  </thead>\n",
       "  <tbody>\n",
       "    <tr>\n",
       "      <th>0</th>\n",
       "      <td>literature</td>\n",
       "      <td>Of Human Bondage by Somerset Maugham</td>\n",
       "      <td>[The day broke gray and dull., The clouds hung...</td>\n",
       "      <td>[День занялся тусклый, серый., Тучи повисли ни...</td>\n",
       "      <td>You are an expert translator. Translate the fo...</td>\n",
       "      <td>[День начался серым и унылым., Облака висели г...</td>\n",
       "    </tr>\n",
       "    <tr>\n",
       "      <th>1</th>\n",
       "      <td>literature</td>\n",
       "      <td>A Tale of Two Cities by Charles Dickens</td>\n",
       "      <td>[It was the best of times, it was the worst of...</td>\n",
       "      <td>[ Это было лучшее из всех времен, это было худ...</td>\n",
       "      <td>You are an expert translator. Translate the fo...</td>\n",
       "      <td>[Это было лучшее время, это было худшее время,...</td>\n",
       "    </tr>\n",
       "    <tr>\n",
       "      <th>2</th>\n",
       "      <td>medical</td>\n",
       "      <td>Barnard C.N. The operation. A human cardiac tr...</td>\n",
       "      <td>[POSTOPERATIVE CARE., The postoperative care o...</td>\n",
       "      <td>[Послеоперационное ведение., Послеоперационное...</td>\n",
       "      <td>You are an expert translator. Translate the fo...</td>\n",
       "      <td>[ПОСЛЕОПЕРАЦИОННЫЙ УХОД., Послеоперационный ух...</td>\n",
       "    </tr>\n",
       "    <tr>\n",
       "      <th>3</th>\n",
       "      <td>medical</td>\n",
       "      <td>Guidelines on diabetes, pre-diabetes, and card...</td>\n",
       "      <td>[Definition and classification of diabetes., C...</td>\n",
       "      <td>[Определение и классификация диабета., Критери...</td>\n",
       "      <td>You are an expert translator. Translate the fo...</td>\n",
       "      <td>[Определение и классификация диабета., Критери...</td>\n",
       "    </tr>\n",
       "    <tr>\n",
       "      <th>4</th>\n",
       "      <td>law</td>\n",
       "      <td>CODE OF CONDUCT FOR EUROPEAN LAWYERS</td>\n",
       "      <td>[1., PREAMBLE., 1.1., The Function of the Lawy...</td>\n",
       "      <td>[I. Преамбула., 1.1., Функция адвоката в общес...</td>\n",
       "      <td>You are an expert translator. Translate the fo...</td>\n",
       "      <td>[1., ПРЕАМБУЛА., 1.1., Функция адвоката в обще...</td>\n",
       "    </tr>\n",
       "  </tbody>\n",
       "</table>\n",
       "</div>"
      ],
      "text/plain": [
       "        field                                              title  \\\n",
       "0  literature               Of Human Bondage by Somerset Maugham   \n",
       "1  literature            A Tale of Two Cities by Charles Dickens   \n",
       "2     medical  Barnard C.N. The operation. A human cardiac tr...   \n",
       "3     medical  Guidelines on diabetes, pre-diabetes, and card...   \n",
       "4         law               CODE OF CONDUCT FOR EUROPEAN LAWYERS   \n",
       "\n",
       "                                             en_text  \\\n",
       "0  [The day broke gray and dull., The clouds hung...   \n",
       "1  [It was the best of times, it was the worst of...   \n",
       "2  [POSTOPERATIVE CARE., The postoperative care o...   \n",
       "3  [Definition and classification of diabetes., C...   \n",
       "4  [1., PREAMBLE., 1.1., The Function of the Lawy...   \n",
       "\n",
       "                                ru_human_translation  \\\n",
       "0  [День занялся тусклый, серый., Тучи повисли ни...   \n",
       "1  [ Это было лучшее из всех времен, это было худ...   \n",
       "2  [Послеоперационное ведение., Послеоперационное...   \n",
       "3  [Определение и классификация диабета., Критери...   \n",
       "4  [I. Преамбула., 1.1., Функция адвоката в общес...   \n",
       "\n",
       "                                              prompt  \\\n",
       "0  You are an expert translator. Translate the fo...   \n",
       "1  You are an expert translator. Translate the fo...   \n",
       "2  You are an expert translator. Translate the fo...   \n",
       "3  You are an expert translator. Translate the fo...   \n",
       "4  You are an expert translator. Translate the fo...   \n",
       "\n",
       "                              ru_machine_translation  \n",
       "0  [День начался серым и унылым., Облака висели г...  \n",
       "1  [Это было лучшее время, это было худшее время,...  \n",
       "2  [ПОСЛЕОПЕРАЦИОННЫЙ УХОД., Послеоперационный ух...  \n",
       "3  [Определение и классификация диабета., Критери...  \n",
       "4  [1., ПРЕАМБУЛА., 1.1., Функция адвоката в обще...  "
      ]
     },
     "execution_count": 57,
     "metadata": {},
     "output_type": "execute_result"
    }
   ],
   "source": [
    "# reading the dataset \n",
    "\n",
    "df = pd.read_json('mt_for_eval.json', orient='records')\n",
    "df.head()"
   ]
  },
  {
   "cell_type": "code",
   "execution_count": 58,
   "metadata": {},
   "outputs": [
    {
     "data": {
      "text/plain": [
       "{'You are an expert translator. Translate the following text to Russian. The text to be translated is:': 'Prompt 1',\n",
       " 'You are an expert translator that will be tasked with translating a piece of text into Russian. The translation must be faithful to the original tone of voice and writing style. Ensure that the meaning of the original text is not changed. The text to be translated is:': 'Prompt 2'}"
      ]
     },
     "metadata": {},
     "output_type": "display_data"
    }
   ],
   "source": [
    "# adding prompt names to the dataframe and printing the prompts used for translation\n",
    "\n",
    "unique_prompts = df['prompt'].unique()\n",
    "prompt_name_mapping = {prompt: f'Prompt {i+1}' for i, prompt in enumerate(unique_prompts)}\n",
    "df['prompt_name'] = df['prompt'].map(prompt_name_mapping)\n",
    "display(prompt_name_mapping)"
   ]
  },
  {
   "cell_type": "code",
   "execution_count": 59,
   "metadata": {},
   "outputs": [],
   "source": [
    "# merging together texts in the same field and used with the same prompts\n",
    "\n",
    "def merge_sentences(text_list):\n",
    "    return sum(text_list, [])\n",
    "\n",
    "columns_to_merge = ['en_text', 'ru_human_translation', 'ru_machine_translation']\n",
    "\n",
    "df_merged = df.groupby(['field', 'prompt_name']).agg({\n",
    "    col: merge_sentences for col in columns_to_merge}).reset_index()"
   ]
  },
  {
   "cell_type": "markdown",
   "metadata": {},
   "source": [
    "### BLEU\n",
    "\n",
    "The BLEU (Bilingual Evaluation Understudy) metric calculates its score by looking at the overlap between the words and phrases in the machine-translated text and the reference translation. It counts the number of matching words and gives higher weight to longer matches. Then, it calculates a precision score based on these matches. Finally, it combines these precision scores to give an overall BLEU score, which indicates how well the machine translation matches the reference translation.\\\n",
    "\\\n",
    "\\\n",
    "https://huggingface.co/spaces/evaluate-metric/bleu \\\n",
    "https://www.baeldung.com/cs/nlp-bleu-score"
   ]
  },
  {
   "cell_type": "code",
   "execution_count": 40,
   "metadata": {},
   "outputs": [],
   "source": [
    "bleu = evaluate.load(\"bleu\")"
   ]
  },
  {
   "cell_type": "code",
   "execution_count": 62,
   "metadata": {},
   "outputs": [],
   "source": [
    "# calculating BLEU\n",
    "\n",
    "df_bleu = df_merged.copy()\n",
    "\n",
    "df_bleu['bleu'] = df_bleu.apply(\n",
    "    lambda x: bleu.compute(predictions=x.ru_machine_translation, references=x.ru_human_translation)['bleu'], \n",
    "    axis=1)\n",
    "\n",
    "df_bleu.drop(columns_to_merge, axis=1, inplace=True)"
   ]
  },
  {
   "cell_type": "code",
   "execution_count": 63,
   "metadata": {},
   "outputs": [
    {
     "data": {
      "text/html": [
       "<div>\n",
       "<style scoped>\n",
       "    .dataframe tbody tr th:only-of-type {\n",
       "        vertical-align: middle;\n",
       "    }\n",
       "\n",
       "    .dataframe tbody tr th {\n",
       "        vertical-align: top;\n",
       "    }\n",
       "\n",
       "    .dataframe thead th {\n",
       "        text-align: right;\n",
       "    }\n",
       "</style>\n",
       "<table border=\"1\" class=\"dataframe\">\n",
       "  <thead>\n",
       "    <tr style=\"text-align: right;\">\n",
       "      <th></th>\n",
       "      <th>field</th>\n",
       "      <th>prompt_name</th>\n",
       "      <th>bleu</th>\n",
       "    </tr>\n",
       "  </thead>\n",
       "  <tbody>\n",
       "    <tr>\n",
       "      <th>0</th>\n",
       "      <td>law</td>\n",
       "      <td>Prompt 1</td>\n",
       "      <td>0.097152</td>\n",
       "    </tr>\n",
       "    <tr>\n",
       "      <th>1</th>\n",
       "      <td>law</td>\n",
       "      <td>Prompt 2</td>\n",
       "      <td>0.101142</td>\n",
       "    </tr>\n",
       "    <tr>\n",
       "      <th>2</th>\n",
       "      <td>literature</td>\n",
       "      <td>Prompt 1</td>\n",
       "      <td>0.121238</td>\n",
       "    </tr>\n",
       "    <tr>\n",
       "      <th>3</th>\n",
       "      <td>literature</td>\n",
       "      <td>Prompt 2</td>\n",
       "      <td>0.104455</td>\n",
       "    </tr>\n",
       "    <tr>\n",
       "      <th>4</th>\n",
       "      <td>medical</td>\n",
       "      <td>Prompt 1</td>\n",
       "      <td>0.037916</td>\n",
       "    </tr>\n",
       "    <tr>\n",
       "      <th>5</th>\n",
       "      <td>medical</td>\n",
       "      <td>Prompt 2</td>\n",
       "      <td>0.033303</td>\n",
       "    </tr>\n",
       "  </tbody>\n",
       "</table>\n",
       "</div>"
      ],
      "text/plain": [
       "        field prompt_name      bleu\n",
       "0         law    Prompt 1  0.097152\n",
       "1         law    Prompt 2  0.101142\n",
       "2  literature    Prompt 1  0.121238\n",
       "3  literature    Prompt 2  0.104455\n",
       "4     medical    Prompt 1  0.037916\n",
       "5     medical    Prompt 2  0.033303"
      ]
     },
     "execution_count": 63,
     "metadata": {},
     "output_type": "execute_result"
    }
   ],
   "source": [
    "df_bleu"
   ]
  },
  {
   "cell_type": "code",
   "execution_count": 64,
   "metadata": {},
   "outputs": [
    {
     "data": {
      "image/png": "[encoded data removed]",
      "text/plain": [
       "<Figure size 640x480 with 1 Axes>"
      ]
     },
     "metadata": {},
     "output_type": "display_data"
    }
   ],
   "source": [
    "# plotting the results\n",
    "\n",
    "sns.pointplot(data=df_bleu, x='prompt_name', y='bleu', hue='field', dodge=False, markers=[\"o\", \"s\", \"D\"], palette='pastel')\n",
    "plt.title('BLEU Score by Prompt and Field')\n",
    "plt.xlabel('Prompt')\n",
    "plt.ylabel('BLEU Score')\n",
    "plt.xticks(rotation=45)\n",
    "plt.tight_layout()\n",
    "plt.legend(title='Field')\n",
    "plt.grid(True)  # Add grid\n",
    "plt.show()"
   ]
  },
  {
   "cell_type": "markdown",
   "metadata": {},
   "source": [
    "### COMET\n",
    "\n",
    "COMET (Crosslingual Optimized Metric for Evaluation of Translation) is a metric for automatic evaluation of machine translation that calculates the similarity between a machine translation output and a reference translation using token or sentence embeddings.\n",
    "It is based on similarity of vector representations. \\\n",
    "A score close to 1 indicates a high-quality translation, while a score close to 0 indicates a translation that is no better than random chance.\n",
    "\\\n",
    "\\\n",
    "https://github.com/Unbabel/COMET"
   ]
  },
  {
   "cell_type": "code",
   "execution_count": 65,
   "metadata": {},
   "outputs": [
    {
     "data": {
      "application/vnd.jupyter.widget-view+json": {
       "model_id": "7964a01bb0da45daad980ab1287cbd2a",
       "version_major": 2,
       "version_minor": 0
      },
      "text/plain": [
       "Fetching 5 files:   0%|          | 0/5 [00:00<?, ?it/s]"
      ]
     },
     "metadata": {},
     "output_type": "display_data"
    }
   ],
   "source": [
    "from comet import download_model, load_from_checkpoint\n",
    "\n",
    "model_path = download_model(\"Unbabel/wmt22-comet-da\")  # default COMET model"
   ]
  },
  {
   "cell_type": "code",
   "execution_count": 66,
   "metadata": {},
   "outputs": [
    {
     "name": "stderr",
     "output_type": "stream",
     "text": [
      "Lightning automatically upgraded your loaded checkpoint from v1.8.3.post1 to v2.2.1. To apply the upgrade to your files permanently, run `python -m pytorch_lightning.utilities.upgrade_checkpoint C:\\Users\\svvlk\\.cache\\huggingface\\hub\\models--Unbabel--wmt22-comet-da\\snapshots\\371e9839ca4e213dde891b066cf3080f75ec7e72\\checkpoints\\model.ckpt`\n",
      "Encoder model frozen.\n",
      "c:\\Users\\svvlk\\AppData\\Local\\Programs\\Python\\Python310\\lib\\site-packages\\pytorch_lightning\\core\\saving.py:188: Found keys that are not in the model state dict but in the checkpoint: ['encoder.model.embeddings.position_ids']\n"
     ]
    }
   ],
   "source": [
    "# Load the model checkpoint:\n",
    "model = load_from_checkpoint(model_path)"
   ]
  },
  {
   "cell_type": "code",
   "execution_count": 67,
   "metadata": {},
   "outputs": [
    {
     "name": "stderr",
     "output_type": "stream",
     "text": [
      "GPU available: False, used: False\n",
      "TPU available: False, using: 0 TPU cores\n",
      "IPU available: False, using: 0 IPUs\n",
      "HPU available: False, using: 0 HPUs\n",
      "Predicting DataLoader 0: 100%|██████████| 1/1 [00:05<00:00,  5.71s/it]\n",
      "GPU available: False, used: False\n",
      "TPU available: False, using: 0 TPU cores\n",
      "IPU available: False, using: 0 IPUs\n",
      "HPU available: False, using: 0 HPUs\n",
      "Predicting DataLoader 0: 100%|██████████| 1/1 [00:05<00:00,  5.71s/it]\n",
      "GPU available: False, used: False\n",
      "TPU available: False, using: 0 TPU cores\n",
      "IPU available: False, using: 0 IPUs\n",
      "HPU available: False, using: 0 HPUs\n",
      "Predicting DataLoader 0: 100%|██████████| 1/1 [00:05<00:00,  5.62s/it]\n",
      "GPU available: False, used: False\n",
      "TPU available: False, using: 0 TPU cores\n",
      "IPU available: False, using: 0 IPUs\n",
      "HPU available: False, using: 0 HPUs\n",
      "Predicting DataLoader 0: 100%|██████████| 1/1 [00:05<00:00,  5.67s/it]\n",
      "GPU available: False, used: False\n",
      "TPU available: False, using: 0 TPU cores\n",
      "IPU available: False, using: 0 IPUs\n",
      "HPU available: False, using: 0 HPUs\n",
      "Predicting DataLoader 0: 100%|██████████| 1/1 [00:05<00:00,  5.65s/it]\n",
      "GPU available: False, used: False\n",
      "TPU available: False, using: 0 TPU cores\n",
      "IPU available: False, using: 0 IPUs\n",
      "HPU available: False, using: 0 HPUs\n",
      "Predicting DataLoader 0: 100%|██████████| 1/1 [00:05<00:00,  5.71s/it]\n"
     ]
    }
   ],
   "source": [
    "# creating functions to convert the data into the format accepted by the COMET model\n",
    "# and calculate COMET scores\n",
    "\n",
    "def calculate_comet(data):\n",
    "    return model.predict(data, batch_size=8, gpus=0)\n",
    "\n",
    "def construct_data_for_prediction(row):\n",
    "    return [{\"src\": row['en_text'], \"mt\": row['ru_machine_translation'], \"ref\": row['ru_human_translation']}]\n",
    "\n",
    "df_comet = df_merged.copy()\n",
    "\n",
    "df_comet['comet'] = df_comet.apply(\n",
    "    lambda row: calculate_comet(construct_data_for_prediction(row))['system_score'], axis=1\n",
    "    )"
   ]
  },
  {
   "cell_type": "code",
   "execution_count": 68,
   "metadata": {},
   "outputs": [
    {
     "data": {
      "text/html": [
       "<div>\n",
       "<style scoped>\n",
       "    .dataframe tbody tr th:only-of-type {\n",
       "        vertical-align: middle;\n",
       "    }\n",
       "\n",
       "    .dataframe tbody tr th {\n",
       "        vertical-align: top;\n",
       "    }\n",
       "\n",
       "    .dataframe thead th {\n",
       "        text-align: right;\n",
       "    }\n",
       "</style>\n",
       "<table border=\"1\" class=\"dataframe\">\n",
       "  <thead>\n",
       "    <tr style=\"text-align: right;\">\n",
       "      <th></th>\n",
       "      <th>field</th>\n",
       "      <th>prompt_name</th>\n",
       "      <th>comet</th>\n",
       "    </tr>\n",
       "  </thead>\n",
       "  <tbody>\n",
       "    <tr>\n",
       "      <th>0</th>\n",
       "      <td>law</td>\n",
       "      <td>Prompt 1</td>\n",
       "      <td>0.925644</td>\n",
       "    </tr>\n",
       "    <tr>\n",
       "      <th>1</th>\n",
       "      <td>law</td>\n",
       "      <td>Prompt 2</td>\n",
       "      <td>0.930009</td>\n",
       "    </tr>\n",
       "    <tr>\n",
       "      <th>2</th>\n",
       "      <td>literature</td>\n",
       "      <td>Prompt 1</td>\n",
       "      <td>0.896352</td>\n",
       "    </tr>\n",
       "    <tr>\n",
       "      <th>3</th>\n",
       "      <td>literature</td>\n",
       "      <td>Prompt 2</td>\n",
       "      <td>0.890450</td>\n",
       "    </tr>\n",
       "    <tr>\n",
       "      <th>4</th>\n",
       "      <td>medical</td>\n",
       "      <td>Prompt 1</td>\n",
       "      <td>0.870131</td>\n",
       "    </tr>\n",
       "    <tr>\n",
       "      <th>5</th>\n",
       "      <td>medical</td>\n",
       "      <td>Prompt 2</td>\n",
       "      <td>0.875312</td>\n",
       "    </tr>\n",
       "  </tbody>\n",
       "</table>\n",
       "</div>"
      ],
      "text/plain": [
       "        field prompt_name     comet\n",
       "0         law    Prompt 1  0.925644\n",
       "1         law    Prompt 2  0.930009\n",
       "2  literature    Prompt 1  0.896352\n",
       "3  literature    Prompt 2  0.890450\n",
       "4     medical    Prompt 1  0.870131\n",
       "5     medical    Prompt 2  0.875312"
      ]
     },
     "execution_count": 68,
     "metadata": {},
     "output_type": "execute_result"
    }
   ],
   "source": [
    "# viewing COMET scores\n",
    "\n",
    "df_comet.drop(columns_to_merge, axis=1, inplace=True)\n",
    "df_comet"
   ]
  },
  {
   "cell_type": "code",
   "execution_count": 69,
   "metadata": {},
   "outputs": [
    {
     "data": {
      "image/png": "[encoded data removed]",
      "text/plain": [
       "<Figure size 640x480 with 1 Axes>"
      ]
     },
     "metadata": {},
     "output_type": "display_data"
    }
   ],
   "source": [
    "# plotting the results\n",
    "\n",
    "sns.pointplot(data=df_comet, x='prompt_name', y='comet', hue='field', dodge=False, markers=[\"o\", \"s\", \"D\"], palette='pastel')\n",
    "plt.title('COMET Score by Prompt and Field')\n",
    "plt.xlabel('Prompt')\n",
    "plt.ylabel('COMET Score')\n",
    "plt.xticks(rotation=45)\n",
    "plt.tight_layout()\n",
    "plt.legend(title='Field')\n",
    "plt.grid(True)  # Add grid\n",
    "plt.show()"
   ]
  },
  {
   "cell_type": "markdown",
   "metadata": {},
   "source": [
    "From the provided BLEU and COMET scores for different prompts and text genres, we can draw several conclusions:\n",
    "\n",
    "1. Comparison of Prompt Performance:\n",
    "\n",
    "* The results show overall little difference between the prompts, however, both metrics indicated that Promt 2 worked a little better with legal texts, while Prompt 1 yielded better literary translations. Perhaps, prompts tailored for each field specifically could improve the scores.\n",
    "\n",
    "2. Text Genre Comparison:\n",
    "\n",
    "* Legal texts exhibit higher scores on both BLEU and COMET metrics. This can be attributed to the presence of specialized terminology and structured language typical in legal documents. The use of precise legal terminology might result in high word and phrase overlap (as measured by BLEU), while maintaining semantic similarity (as captured by COMET).\n",
    "\n",
    "* Literature translations received high scores on BLEU but lower scores on COMET, which is unexpected, but perhaps can be attributed to the selection of the text data. Literary translations typically involve various interpretations and don't necessarily align closely with the reference. The lower COMET score might stem from the complexity of literary texts, resulting in lower semantic similarity scores.\n",
    "\n",
    "* Medical texts scored lower on both COMET and BLEU. This pattern can be explained by the presence of highly specialized terminology in medical documents, resulting in higher divergence in both word overlap and semantic similarity.\n",
    "\n",
    "Overall Model Performance:\n",
    "\n",
    "The GPT-3.5-Turbo model demonstrates better performance in terms of semantic similarity (as measured by COMET) compared to word overlap (as measured by BLEU). This suggests that while the literal word overlap might vary, the overall meaning and semantic content of the translations are well-preserved.\n",
    "\n",
    "It would be beneficial to analyze specific examples where the model performs well/poorly to understand the strengths and weaknesses of the translations produced by each prompt and for each text genre.\n",
    "Fine-tuning the prompts, collecting a larger dataset, or exploring other techniques to improve translation quality, especially for challenging text genres like literature and medical texts, could be considered."
   ]
  }
 ],
 "metadata": {
  "kernelspec": {
   "display_name": "Python 3",
   "language": "python",
   "name": "python3"
  },
  "language_info": {
   "codemirror_mode": {
    "name": "ipython",
    "version": 3
   },
   "file_extension": ".py",
   "mimetype": "text/x-python",
   "name": "python",
   "nbconvert_exporter": "python",
   "pygments_lexer": "ipython3",
   "version": "3.10.7"
  }
 },
 "nbformat": 4,
 "nbformat_minor": 2
}
