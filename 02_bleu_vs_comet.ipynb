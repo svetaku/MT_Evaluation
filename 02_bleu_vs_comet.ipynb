{
 "cells": [
  {
   "cell_type": "code",
   "execution_count": 95,
   "metadata": {},
   "outputs": [],
   "source": [
    "import evaluate\n",
    "import json\n",
    "import pandas as pd\n",
    "import matplotlib.pyplot as plt\n",
    "import seaborn as sns\n",
    "\n",
    "bleu = evaluate.load(\"bleu\")"
   ]
  },
  {
   "cell_type": "markdown",
   "metadata": {},
   "source": [
    "### BLEU\n",
    "\n",
    "The BLEU (Bilingual Evaluation Understudy) metric calculates its score by looking at the overlap between the words and phrases in the machine-translated text and the reference translation. It counts the number of matching words and gives higher weight to longer matches. Then, it calculates a precision score based on these matches. Finally, it combines these precision scores to give an overall BLEU score, which indicates how well the machine translation matches the reference translation.\\\n",
    "\\\n",
    "https://www.baeldung.com/cs/nlp-bleu-score"
   ]
  },
  {
   "cell_type": "code",
   "execution_count": 131,
   "metadata": {},
   "outputs": [
    {
     "name": "stdout",
     "output_type": "stream",
     "text": [
      "Prompt 1 \n",
      " You are an expert translator that will be tasked with translating a piece of text into Russian. The translation must be faithful to the original tone of voice and writing style. Ensure that the meaning of the original text is not changed. The text to be translated is:\n",
      "Prompt 2 \n",
      " You are an expert translator. Translate the following text to Russian using vocabulary and expressions of a Russian native. The text to be translated is:\n"
     ]
    }
   ],
   "source": [
    "# reading the dataset and printing the prompts used for translation \n",
    "\n",
    "file_path = 'mt_for_eval.json'\n",
    "\n",
    "with open(file_path, 'r') as json_file:\n",
    "    translation_data = json.load(json_file)\n",
    "\n",
    "prompts = set()\n",
    "\n",
    "for label in translation_data.values():\n",
    "    label_prompts = list(label.keys())\n",
    "    prompts.update(label_prompts)\n",
    "\n",
    "prompt_names = {}\n",
    "\n",
    "for num, prompt in enumerate(prompts):\n",
    "     prompt_name = 'Prompt '+str(num+1)\n",
    "     prompt_names[prompt] = prompt_name\n",
    "     print(prompt_name, '\\n', prompt)"
   ]
  },
  {
   "cell_type": "code",
   "execution_count": 128,
   "metadata": {},
   "outputs": [],
   "source": [
    "# creating lists of values from the dataset for evaluation on BLEU\n",
    "\n",
    "data_bleu = []\n",
    "\n",
    "for label, prompts in translation_data.items():\n",
    "    for prompt, translations in prompts.items():\n",
    "        machine_translations = []\n",
    "        human_translations = []\n",
    "        for translation in translations:\n",
    "            machine_translations.append(translation[1])\n",
    "            human_translations.append(translation[2])\n",
    "\n",
    "        data_bleu.append([label, prompt_names[prompt], [machine_translations, human_translations]])"
   ]
  },
  {
   "cell_type": "code",
   "execution_count": 129,
   "metadata": {},
   "outputs": [
    {
     "data": {
      "text/html": [
       "<div>\n",
       "<style scoped>\n",
       "    .dataframe tbody tr th:only-of-type {\n",
       "        vertical-align: middle;\n",
       "    }\n",
       "\n",
       "    .dataframe tbody tr th {\n",
       "        vertical-align: top;\n",
       "    }\n",
       "\n",
       "    .dataframe thead th {\n",
       "        text-align: right;\n",
       "    }\n",
       "</style>\n",
       "<table border=\"1\" class=\"dataframe\">\n",
       "  <thead>\n",
       "    <tr style=\"text-align: right;\">\n",
       "      <th></th>\n",
       "      <th>label</th>\n",
       "      <th>prompt</th>\n",
       "      <th>bleu_score</th>\n",
       "    </tr>\n",
       "  </thead>\n",
       "  <tbody>\n",
       "    <tr>\n",
       "      <th>0</th>\n",
       "      <td>literature</td>\n",
       "      <td>Prompt 2</td>\n",
       "      <td>0.147939</td>\n",
       "    </tr>\n",
       "    <tr>\n",
       "      <th>1</th>\n",
       "      <td>literature</td>\n",
       "      <td>Prompt 1</td>\n",
       "      <td>0.147648</td>\n",
       "    </tr>\n",
       "    <tr>\n",
       "      <th>2</th>\n",
       "      <td>medical</td>\n",
       "      <td>Prompt 2</td>\n",
       "      <td>0.201215</td>\n",
       "    </tr>\n",
       "    <tr>\n",
       "      <th>3</th>\n",
       "      <td>medical</td>\n",
       "      <td>Prompt 1</td>\n",
       "      <td>0.192895</td>\n",
       "    </tr>\n",
       "    <tr>\n",
       "      <th>4</th>\n",
       "      <td>law</td>\n",
       "      <td>Prompt 2</td>\n",
       "      <td>0.178645</td>\n",
       "    </tr>\n",
       "    <tr>\n",
       "      <th>5</th>\n",
       "      <td>law</td>\n",
       "      <td>Prompt 1</td>\n",
       "      <td>0.176438</td>\n",
       "    </tr>\n",
       "  </tbody>\n",
       "</table>\n",
       "</div>"
      ],
      "text/plain": [
       "        label    prompt  bleu_score\n",
       "0  literature  Prompt 2    0.147939\n",
       "1  literature  Prompt 1    0.147648\n",
       "2     medical  Prompt 2    0.201215\n",
       "3     medical  Prompt 1    0.192895\n",
       "4         law  Prompt 2    0.178645\n",
       "5         law  Prompt 1    0.176438"
      ]
     },
     "execution_count": 129,
     "metadata": {},
     "output_type": "execute_result"
    }
   ],
   "source": [
    "# calculating the BLEU scores\n",
    "\n",
    "for item in data_bleu:\n",
    "    predictions = item[2][0]\n",
    "    references = item[2][1]\n",
    "    results = bleu.compute(predictions=predictions, references=references)\n",
    "    bleu_score = results['bleu']\n",
    "    item.append(bleu_score)\n",
    "\n",
    "df_bleu = pd.DataFrame(data_bleu, columns = ['label', 'prompt', 'translations', 'bleu_score'])\n",
    "df_bleu.drop(columns=['translations'], axis=1, inplace=True)\n",
    "df_bleu"
   ]
  },
  {
   "cell_type": "code",
   "execution_count": 126,
   "metadata": {},
   "outputs": [
    {
     "data": {
      "image/png": "[encoded data removed]",
      "text/plain": [
       "<Figure size 640x480 with 1 Axes>"
      ]
     },
     "metadata": {},
     "output_type": "display_data"
    }
   ],
   "source": [
    "# plotting the results\n",
    "\n",
    "sns.pointplot(data=df_bleu, x='prompt', y='bleu_score', hue='label', dodge=False, markers=[\"o\", \"s\", \"D\"], palette='pastel')\n",
    "plt.title('BLEU Score by Prompt and Label')\n",
    "plt.xlabel('Prompt')\n",
    "plt.ylabel('BLEU Score')\n",
    "plt.xticks(rotation=45)\n",
    "plt.tight_layout()\n",
    "plt.legend(title='Label')\n",
    "plt.grid(True)  # Add grid\n",
    "plt.show()"
   ]
  },
  {
   "cell_type": "markdown",
   "metadata": {},
   "source": [
    "### COMET\n",
    "\n",
    "COMET (Crosslingual Optimized Metric for Evaluation of Translation) is a metric for automatic evaluation of machine translation that calculates the similarity between a machine translation output and a reference translation using token or sentence embeddings.\n",
    "It is based on similarity of vector representations. \\\n",
    "A score close to 1 indicates a high-quality translation, while a score close to 0 indicates a translation that is no better than random chance."
   ]
  },
  {
   "cell_type": "code",
   "execution_count": 46,
   "metadata": {},
   "outputs": [
    {
     "name": "stderr",
     "output_type": "stream",
     "text": [
      "Fetching 5 files: 100%|██████████| 5/5 [00:00<00:00, 5068.03it/s]\n"
     ]
    }
   ],
   "source": [
    "from comet import download_model, load_from_checkpoint\n",
    "\n",
    "model_path = download_model(\"Unbabel/wmt22-comet-da\")  # default COMET model"
   ]
  },
  {
   "cell_type": "code",
   "execution_count": 47,
   "metadata": {},
   "outputs": [
    {
     "name": "stderr",
     "output_type": "stream",
     "text": [
      "Lightning automatically upgraded your loaded checkpoint from v1.8.3.post1 to v2.2.1. To apply the upgrade to your files permanently, run `python -m pytorch_lightning.utilities.upgrade_checkpoint C:\\Users\\svvlk\\.cache\\huggingface\\hub\\models--Unbabel--wmt22-comet-da\\snapshots\\371e9839ca4e213dde891b066cf3080f75ec7e72\\checkpoints\\model.ckpt`\n",
      "Encoder model frozen.\n",
      "c:\\Users\\svvlk\\AppData\\Local\\Programs\\Python\\Python310\\lib\\site-packages\\pytorch_lightning\\core\\saving.py:188: Found keys that are not in the model state dict but in the checkpoint: ['encoder.model.embeddings.position_ids']\n"
     ]
    }
   ],
   "source": [
    "# Load the model checkpoint:\n",
    "model = load_from_checkpoint(model_path)"
   ]
  },
  {
   "cell_type": "code",
   "execution_count": 132,
   "metadata": {},
   "outputs": [],
   "source": [
    "# converting the data into the format accepted by the COMET model\n",
    "\n",
    "data_comet = translation_data.copy()\n",
    "\n",
    "for label, prompts in data_comet.items():\n",
    "    for prompt, translations in prompts.items():\n",
    "        comet_translations = []\n",
    "        for translation in translations: \n",
    "            comet_translation = {\"src\": translation[0], \"mt\": translation[1], \"ref\": translation[2]}\n",
    "            comet_translations.append(comet_translation)\n",
    "        data_comet[label][prompt] = comet_translations"
   ]
  },
  {
   "cell_type": "code",
   "execution_count": 130,
   "metadata": {},
   "outputs": [
    {
     "name": "stderr",
     "output_type": "stream",
     "text": [
      "GPU available: False, used: False\n",
      "TPU available: False, using: 0 TPU cores\n",
      "IPU available: False, using: 0 IPUs\n",
      "HPU available: False, using: 0 HPUs\n"
     ]
    },
    {
     "name": "stderr",
     "output_type": "stream",
     "text": [
      "Predicting DataLoader 0: 100%|██████████| 20/20 [01:02<00:00,  3.11s/it]\n",
      "GPU available: False, used: False\n",
      "TPU available: False, using: 0 TPU cores\n",
      "IPU available: False, using: 0 IPUs\n",
      "HPU available: False, using: 0 HPUs\n",
      "Predicting DataLoader 0: 100%|██████████| 20/20 [01:08<00:00,  3.45s/it]\n",
      "GPU available: False, used: False\n",
      "TPU available: False, using: 0 TPU cores\n",
      "IPU available: False, using: 0 IPUs\n",
      "HPU available: False, using: 0 HPUs\n",
      "Predicting DataLoader 0: 100%|██████████| 10/10 [00:42<00:00,  4.26s/it]\n",
      "GPU available: False, used: False\n",
      "TPU available: False, using: 0 TPU cores\n",
      "IPU available: False, using: 0 IPUs\n",
      "HPU available: False, using: 0 HPUs\n",
      "Predicting DataLoader 0: 100%|██████████| 11/11 [00:44<00:00,  4.05s/it]\n",
      "GPU available: False, used: False\n",
      "TPU available: False, using: 0 TPU cores\n",
      "IPU available: False, using: 0 IPUs\n",
      "HPU available: False, using: 0 HPUs\n",
      "Predicting DataLoader 0: 100%|██████████| 10/10 [00:48<00:00,  4.84s/it]\n",
      "GPU available: False, used: False\n",
      "TPU available: False, using: 0 TPU cores\n",
      "IPU available: False, using: 0 IPUs\n",
      "HPU available: False, using: 0 HPUs\n",
      "Predicting DataLoader 0: 100%|██████████| 9/9 [01:12<00:00,  8.07s/it]\n"
     ]
    },
    {
     "data": {
      "text/html": [
       "<div>\n",
       "<style scoped>\n",
       "    .dataframe tbody tr th:only-of-type {\n",
       "        vertical-align: middle;\n",
       "    }\n",
       "\n",
       "    .dataframe tbody tr th {\n",
       "        vertical-align: top;\n",
       "    }\n",
       "\n",
       "    .dataframe thead th {\n",
       "        text-align: right;\n",
       "    }\n",
       "</style>\n",
       "<table border=\"1\" class=\"dataframe\">\n",
       "  <thead>\n",
       "    <tr style=\"text-align: right;\">\n",
       "      <th></th>\n",
       "      <th>label</th>\n",
       "      <th>prompt</th>\n",
       "      <th>comet_score</th>\n",
       "    </tr>\n",
       "  </thead>\n",
       "  <tbody>\n",
       "    <tr>\n",
       "      <th>0</th>\n",
       "      <td>literature</td>\n",
       "      <td>Prompt 2</td>\n",
       "      <td>0.821362</td>\n",
       "    </tr>\n",
       "    <tr>\n",
       "      <th>1</th>\n",
       "      <td>literature</td>\n",
       "      <td>Prompt 1</td>\n",
       "      <td>0.825643</td>\n",
       "    </tr>\n",
       "    <tr>\n",
       "      <th>2</th>\n",
       "      <td>medical</td>\n",
       "      <td>Prompt 2</td>\n",
       "      <td>0.862352</td>\n",
       "    </tr>\n",
       "    <tr>\n",
       "      <th>3</th>\n",
       "      <td>medical</td>\n",
       "      <td>Prompt 1</td>\n",
       "      <td>0.857635</td>\n",
       "    </tr>\n",
       "    <tr>\n",
       "      <th>4</th>\n",
       "      <td>law</td>\n",
       "      <td>Prompt 2</td>\n",
       "      <td>0.859116</td>\n",
       "    </tr>\n",
       "    <tr>\n",
       "      <th>5</th>\n",
       "      <td>law</td>\n",
       "      <td>Prompt 1</td>\n",
       "      <td>0.844236</td>\n",
       "    </tr>\n",
       "  </tbody>\n",
       "</table>\n",
       "</div>"
      ],
      "text/plain": [
       "        label    prompt  comet_score\n",
       "0  literature  Prompt 2     0.821362\n",
       "1  literature  Prompt 1     0.825643\n",
       "2     medical  Prompt 2     0.862352\n",
       "3     medical  Prompt 1     0.857635\n",
       "4         law  Prompt 2     0.859116\n",
       "5         law  Prompt 1     0.844236"
      ]
     },
     "execution_count": 130,
     "metadata": {},
     "output_type": "execute_result"
    }
   ],
   "source": [
    "# calculating the COMET scores\n",
    "\n",
    "comet_scores = []\n",
    "\n",
    "for label, prompts in data_comet.items():\n",
    "    for prompt, translations in prompts.items():\n",
    "        model_output = model.predict(translations, batch_size=8, gpus=0)\n",
    "        comet_score = [label, prompt_names[prompt], model_output['system_score']]\n",
    "        comet_scores.append(comet_score)\n",
    "        \n",
    "df_comet = pd.DataFrame(comet_scores, columns = ['label', 'prompt', 'comet_score'])\n",
    "df_comet"
   ]
  },
  {
   "cell_type": "code",
   "execution_count": 124,
   "metadata": {},
   "outputs": [
    {
     "data": {
      "image/png": "[encoded data removed]",
      "text/plain": [
       "<Figure size 640x480 with 1 Axes>"
      ]
     },
     "metadata": {},
     "output_type": "display_data"
    }
   ],
   "source": [
    "# plotting the results\n",
    "\n",
    "sns.pointplot(data=df_comet, x='prompt', y='comet_score', hue='label', dodge=False, markers=[\"o\", \"s\", \"D\"], palette='pastel')\n",
    "plt.title('COMET Score by Prompt and Label')\n",
    "plt.xlabel('Prompt')\n",
    "plt.ylabel('COMET Score')\n",
    "plt.xticks(rotation=45)\n",
    "plt.tight_layout()\n",
    "plt.legend(title='Label')\n",
    "plt.grid(True)  # Add grid\n",
    "plt.show()"
   ]
  },
  {
   "cell_type": "markdown",
   "metadata": {},
   "source": [
    "### Conclusions\n",
    "\n",
    "The evaluation of the dataset using COMET and BLEU metrics revealed trends in the performance of the GPT-3.5-turbo model across different types of texts. It appears that the model excels in translating medical texts, showing slightly weaker performance with legal texts. Across both domains, Prompt 2 consistently proved to be more effective.\n",
    "\n",
    "Predictably, literary texts received the lowest scores overall, with Prompt 1 showing slightly better results on average. These findings suggest that the model's performance varies depending on the type of text, highlighting the need for tailored approaches when applying it to different domains. "
   ]
  }
 ],
 "metadata": {
  "kernelspec": {
   "display_name": "Python 3",
   "language": "python",
   "name": "python3"
  },
  "language_info": {
   "codemirror_mode": {
    "name": "ipython",
    "version": 3
   },
   "file_extension": ".py",
   "mimetype": "text/x-python",
   "name": "python",
   "nbconvert_exporter": "python",
   "pygments_lexer": "ipython3",
   "version": "3.10.7"
  }
 },
 "nbformat": 4,
 "nbformat_minor": 2
}
