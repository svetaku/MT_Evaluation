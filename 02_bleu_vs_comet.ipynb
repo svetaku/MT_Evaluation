{
 "cells": [
  {
   "cell_type": "code",
   "execution_count": 66,
   "metadata": {},
   "outputs": [],
   "source": [
    "import evaluate\n",
    "import json\n",
    "import pandas as pd\n",
    "import matplotlib.pyplot as plt\n",
    "import seaborn as sns"
   ]
  },
  {
   "cell_type": "code",
   "execution_count": 78,
   "metadata": {},
   "outputs": [
    {
     "name": "stdout",
     "output_type": "stream",
     "text": [
      "Prompt 1 \n",
      " You are an expert translator that will be tasked with translating a piece of text into Russian. The translation must be faithful to the original tone of voice and writing style. Ensure that the meaning of the original text is not changed. The text to be translated is:\n",
      "Prompt 2 \n",
      " You are an expert translator. Translate the following text to Russian using vocabulary and expressions of a Russian native. The text to be translated is:\n"
     ]
    }
   ],
   "source": [
    "# reading the dataset and printing the prompts used for translation \n",
    "\n",
    "file_path = 'mt_for_eval.json'\n",
    "\n",
    "with open(file_path, 'r') as json_file:\n",
    "    translation_data = json.load(json_file)\n",
    "\n",
    "prompts = set()\n",
    "\n",
    "for label in translation_data.values():\n",
    "    label_prompts = list(label.keys())\n",
    "    prompts.update(label_prompts)\n",
    "\n",
    "prompt_names = {}\n",
    "\n",
    "for num, prompt in enumerate(prompts):\n",
    "     prompt_name = 'Prompt '+str(num+1)\n",
    "     prompt_names[prompt] = prompt_name\n",
    "     print(prompt_name, '\\n', prompt)"
   ]
  },
  {
   "cell_type": "markdown",
   "metadata": {},
   "source": [
    "### BLEU\n",
    "\n",
    "The BLEU (Bilingual Evaluation Understudy) metric calculates its score by looking at the overlap between the words and phrases in the machine-translated text and the reference translation. It counts the number of matching words and gives higher weight to longer matches. Then, it calculates a precision score based on these matches. Finally, it combines these precision scores to give an overall BLEU score, which indicates how well the machine translation matches the reference translation.\\\n",
    "\\\n",
    "\\\n",
    "https://huggingface.co/spaces/evaluate-metric/bleu \\\n",
    "https://www.baeldung.com/cs/nlp-bleu-score"
   ]
  },
  {
   "cell_type": "code",
   "execution_count": 67,
   "metadata": {},
   "outputs": [],
   "source": [
    "bleu = evaluate.load(\"bleu\")"
   ]
  },
  {
   "cell_type": "code",
   "execution_count": 82,
   "metadata": {},
   "outputs": [],
   "source": [
    "# creating lists of values from the dataset for evaluation on BLEU\n",
    "\n",
    "data_bleu = []\n",
    "\n",
    "for label, prompts in translation_data.items():\n",
    "    for prompt, translations in prompts.items():\n",
    "        machine_translations = []\n",
    "        human_translations = []\n",
    "        for translation in translations:\n",
    "            machine_translations.extend(translation[1])    # extending to a list of all translated sentences under the same label\n",
    "            human_translations.extend(translation[2])\n",
    "\n",
    "        data_bleu.append([label, prompt_names[prompt], [machine_translations, human_translations]])"
   ]
  },
  {
   "cell_type": "code",
   "execution_count": 83,
   "metadata": {},
   "outputs": [
    {
     "data": {
      "text/html": [
       "<div>\n",
       "<style scoped>\n",
       "    .dataframe tbody tr th:only-of-type {\n",
       "        vertical-align: middle;\n",
       "    }\n",
       "\n",
       "    .dataframe tbody tr th {\n",
       "        vertical-align: top;\n",
       "    }\n",
       "\n",
       "    .dataframe thead th {\n",
       "        text-align: right;\n",
       "    }\n",
       "</style>\n",
       "<table border=\"1\" class=\"dataframe\">\n",
       "  <thead>\n",
       "    <tr style=\"text-align: right;\">\n",
       "      <th></th>\n",
       "      <th>label</th>\n",
       "      <th>prompt</th>\n",
       "      <th>bleu_score</th>\n",
       "    </tr>\n",
       "  </thead>\n",
       "  <tbody>\n",
       "    <tr>\n",
       "      <th>0</th>\n",
       "      <td>literature</td>\n",
       "      <td>Prompt 2</td>\n",
       "      <td>0.094569</td>\n",
       "    </tr>\n",
       "    <tr>\n",
       "      <th>1</th>\n",
       "      <td>literature</td>\n",
       "      <td>Prompt 1</td>\n",
       "      <td>0.088785</td>\n",
       "    </tr>\n",
       "    <tr>\n",
       "      <th>2</th>\n",
       "      <td>medical</td>\n",
       "      <td>Prompt 2</td>\n",
       "      <td>0.035462</td>\n",
       "    </tr>\n",
       "    <tr>\n",
       "      <th>3</th>\n",
       "      <td>medical</td>\n",
       "      <td>Prompt 1</td>\n",
       "      <td>0.031622</td>\n",
       "    </tr>\n",
       "    <tr>\n",
       "      <th>4</th>\n",
       "      <td>law</td>\n",
       "      <td>Prompt 2</td>\n",
       "      <td>0.103872</td>\n",
       "    </tr>\n",
       "    <tr>\n",
       "      <th>5</th>\n",
       "      <td>law</td>\n",
       "      <td>Prompt 1</td>\n",
       "      <td>0.091450</td>\n",
       "    </tr>\n",
       "  </tbody>\n",
       "</table>\n",
       "</div>"
      ],
      "text/plain": [
       "        label    prompt  bleu_score\n",
       "0  literature  Prompt 2    0.094569\n",
       "1  literature  Prompt 1    0.088785\n",
       "2     medical  Prompt 2    0.035462\n",
       "3     medical  Prompt 1    0.031622\n",
       "4         law  Prompt 2    0.103872\n",
       "5         law  Prompt 1    0.091450"
      ]
     },
     "execution_count": 83,
     "metadata": {},
     "output_type": "execute_result"
    }
   ],
   "source": [
    "# calculating the BLEU scores\n",
    "\n",
    "for item in data_bleu:\n",
    "    predictions = item[2][0]\n",
    "    references = item[2][1]\n",
    "    results = bleu.compute(predictions=predictions, references=references)\n",
    "    bleu_score = results['bleu']\n",
    "    item.append(bleu_score)\n",
    "\n",
    "df_bleu = pd.DataFrame(data_bleu, columns = ['label', 'prompt', 'translations', 'bleu_score'])\n",
    "df_bleu.drop(columns=['translations'], axis=1, inplace=True)\n",
    "df_bleu"
   ]
  },
  {
   "cell_type": "code",
   "execution_count": 71,
   "metadata": {},
   "outputs": [
    {
     "data": {
      "image/png": "[encoded data removed]",
      "text/plain": [
       "<Figure size 640x480 with 1 Axes>"
      ]
     },
     "metadata": {},
     "output_type": "display_data"
    }
   ],
   "source": [
    "# plotting the results\n",
    "\n",
    "sns.pointplot(data=df_bleu, x='prompt', y='bleu_score', hue='label', dodge=False, markers=[\"o\", \"s\", \"D\"], palette='pastel')\n",
    "plt.title('BLEU Score by Prompt and Label')\n",
    "plt.xlabel('Prompt')\n",
    "plt.ylabel('BLEU Score')\n",
    "plt.xticks(rotation=45)\n",
    "plt.tight_layout()\n",
    "plt.legend(title='Label')\n",
    "plt.grid(True)  # Add grid\n",
    "plt.show()"
   ]
  },
  {
   "cell_type": "markdown",
   "metadata": {},
   "source": [
    "### COMET\n",
    "\n",
    "COMET (Crosslingual Optimized Metric for Evaluation of Translation) is a metric for automatic evaluation of machine translation that calculates the similarity between a machine translation output and a reference translation using token or sentence embeddings.\n",
    "It is based on similarity of vector representations. \\\n",
    "A score close to 1 indicates a high-quality translation, while a score close to 0 indicates a translation that is no better than random chance.\n",
    "\\\n",
    "\\\n",
    "https://github.com/Unbabel/COMET"
   ]
  },
  {
   "cell_type": "code",
   "execution_count": 72,
   "metadata": {},
   "outputs": [
    {
     "data": {
      "application/vnd.jupyter.widget-view+json": {
       "model_id": "1f48b316dcac455792d0295123540d49",
       "version_major": 2,
       "version_minor": 0
      },
      "text/plain": [
       "Fetching 5 files:   0%|          | 0/5 [00:00<?, ?it/s]"
      ]
     },
     "metadata": {},
     "output_type": "display_data"
    }
   ],
   "source": [
    "from comet import download_model, load_from_checkpoint\n",
    "\n",
    "model_path = download_model(\"Unbabel/wmt22-comet-da\")  # default COMET model"
   ]
  },
  {
   "cell_type": "code",
   "execution_count": 73,
   "metadata": {},
   "outputs": [
    {
     "name": "stderr",
     "output_type": "stream",
     "text": [
      "Lightning automatically upgraded your loaded checkpoint from v1.8.3.post1 to v2.2.1. To apply the upgrade to your files permanently, run `python -m pytorch_lightning.utilities.upgrade_checkpoint C:\\Users\\svvlk\\.cache\\huggingface\\hub\\models--Unbabel--wmt22-comet-da\\snapshots\\371e9839ca4e213dde891b066cf3080f75ec7e72\\checkpoints\\model.ckpt`\n",
      "Encoder model frozen.\n",
      "c:\\Users\\svvlk\\AppData\\Local\\Programs\\Python\\Python310\\lib\\site-packages\\pytorch_lightning\\core\\saving.py:188: Found keys that are not in the model state dict but in the checkpoint: ['encoder.model.embeddings.position_ids']\n"
     ]
    }
   ],
   "source": [
    "# Load the model checkpoint:\n",
    "model = load_from_checkpoint(model_path)"
   ]
  },
  {
   "cell_type": "code",
   "execution_count": 74,
   "metadata": {},
   "outputs": [],
   "source": [
    "# converting the data into the format accepted by the COMET model\n",
    "\n",
    "data_comet = translation_data.copy()\n",
    "\n",
    "for label, prompts in data_comet.items():\n",
    "    for prompt, translations in prompts.items():\n",
    "        comet_translations = []\n",
    "        for translation in translations: \n",
    "            comet_translation = {\"src\": translation[0], \"mt\": translation[1], \"ref\": translation[2]}\n",
    "            comet_translations.append(comet_translation)\n",
    "        data_comet[label][prompt] = comet_translations"
   ]
  },
  {
   "cell_type": "code",
   "execution_count": 75,
   "metadata": {},
   "outputs": [
    {
     "name": "stderr",
     "output_type": "stream",
     "text": [
      "GPU available: False, used: False\n",
      "TPU available: False, using: 0 TPU cores\n",
      "IPU available: False, using: 0 IPUs\n",
      "HPU available: False, using: 0 HPUs\n",
      "Predicting DataLoader 0: 100%|██████████| 1/1 [00:10<00:00, 10.87s/it]\n",
      "GPU available: False, used: False\n",
      "TPU available: False, using: 0 TPU cores\n",
      "IPU available: False, using: 0 IPUs\n",
      "HPU available: False, using: 0 HPUs\n",
      "Predicting DataLoader 0: 100%|██████████| 1/1 [00:10<00:00, 10.73s/it]\n",
      "GPU available: False, used: False\n",
      "TPU available: False, using: 0 TPU cores\n",
      "IPU available: False, using: 0 IPUs\n",
      "HPU available: False, using: 0 HPUs\n",
      "Predicting DataLoader 0: 100%|██████████| 1/1 [00:10<00:00, 10.95s/it]\n",
      "GPU available: False, used: False\n",
      "TPU available: False, using: 0 TPU cores\n",
      "IPU available: False, using: 0 IPUs\n",
      "HPU available: False, using: 0 HPUs\n",
      "Predicting DataLoader 0: 100%|██████████| 1/1 [00:11<00:00, 11.20s/it]\n",
      "GPU available: False, used: False\n",
      "TPU available: False, using: 0 TPU cores\n",
      "IPU available: False, using: 0 IPUs\n",
      "HPU available: False, using: 0 HPUs\n",
      "Predicting DataLoader 0: 100%|██████████| 1/1 [00:12<00:00, 12.14s/it]\n",
      "GPU available: False, used: False\n",
      "TPU available: False, using: 0 TPU cores\n",
      "IPU available: False, using: 0 IPUs\n",
      "HPU available: False, using: 0 HPUs\n",
      "Predicting DataLoader 0: 100%|██████████| 1/1 [00:12<00:00, 12.15s/it]\n"
     ]
    },
    {
     "data": {
      "text/html": [
       "<div>\n",
       "<style scoped>\n",
       "    .dataframe tbody tr th:only-of-type {\n",
       "        vertical-align: middle;\n",
       "    }\n",
       "\n",
       "    .dataframe tbody tr th {\n",
       "        vertical-align: top;\n",
       "    }\n",
       "\n",
       "    .dataframe thead th {\n",
       "        text-align: right;\n",
       "    }\n",
       "</style>\n",
       "<table border=\"1\" class=\"dataframe\">\n",
       "  <thead>\n",
       "    <tr style=\"text-align: right;\">\n",
       "      <th></th>\n",
       "      <th>label</th>\n",
       "      <th>prompt</th>\n",
       "      <th>comet_score</th>\n",
       "    </tr>\n",
       "  </thead>\n",
       "  <tbody>\n",
       "    <tr>\n",
       "      <th>0</th>\n",
       "      <td>literature</td>\n",
       "      <td>Prompt 2</td>\n",
       "      <td>0.828214</td>\n",
       "    </tr>\n",
       "    <tr>\n",
       "      <th>1</th>\n",
       "      <td>literature</td>\n",
       "      <td>Prompt 1</td>\n",
       "      <td>0.831568</td>\n",
       "    </tr>\n",
       "    <tr>\n",
       "      <th>2</th>\n",
       "      <td>medical</td>\n",
       "      <td>Prompt 2</td>\n",
       "      <td>0.905302</td>\n",
       "    </tr>\n",
       "    <tr>\n",
       "      <th>3</th>\n",
       "      <td>medical</td>\n",
       "      <td>Prompt 1</td>\n",
       "      <td>0.901853</td>\n",
       "    </tr>\n",
       "    <tr>\n",
       "      <th>4</th>\n",
       "      <td>law</td>\n",
       "      <td>Prompt 2</td>\n",
       "      <td>0.919184</td>\n",
       "    </tr>\n",
       "    <tr>\n",
       "      <th>5</th>\n",
       "      <td>law</td>\n",
       "      <td>Prompt 1</td>\n",
       "      <td>0.917133</td>\n",
       "    </tr>\n",
       "  </tbody>\n",
       "</table>\n",
       "</div>"
      ],
      "text/plain": [
       "        label    prompt  comet_score\n",
       "0  literature  Prompt 2     0.828214\n",
       "1  literature  Prompt 1     0.831568\n",
       "2     medical  Prompt 2     0.905302\n",
       "3     medical  Prompt 1     0.901853\n",
       "4         law  Prompt 2     0.919184\n",
       "5         law  Prompt 1     0.917133"
      ]
     },
     "execution_count": 75,
     "metadata": {},
     "output_type": "execute_result"
    }
   ],
   "source": [
    "# calculating the COMET scores\n",
    "\n",
    "comet_scores = []\n",
    "\n",
    "for label, prompts in data_comet.items():\n",
    "    for prompt, translations in prompts.items():\n",
    "        model_output = model.predict(translations, batch_size=8, gpus=0)\n",
    "        comet_score = [label, prompt_names[prompt], model_output['system_score']]\n",
    "        comet_scores.append(comet_score)\n",
    "        \n",
    "df_comet = pd.DataFrame(comet_scores, columns = ['label', 'prompt', 'comet_score'])\n",
    "df_comet"
   ]
  },
  {
   "cell_type": "code",
   "execution_count": 76,
   "metadata": {},
   "outputs": [
    {
     "data": {
      "image/png": "[encoded data removed]",
      "text/plain": [
       "<Figure size 640x480 with 1 Axes>"
      ]
     },
     "metadata": {},
     "output_type": "display_data"
    }
   ],
   "source": [
    "# plotting the results\n",
    "\n",
    "sns.pointplot(data=df_comet, x='prompt', y='comet_score', hue='label', dodge=False, markers=[\"o\", \"s\", \"D\"], palette='pastel')\n",
    "plt.title('COMET Score by Prompt and Label')\n",
    "plt.xlabel('Prompt')\n",
    "plt.ylabel('COMET Score')\n",
    "plt.xticks(rotation=45)\n",
    "plt.tight_layout()\n",
    "plt.legend(title='Label')\n",
    "plt.grid(True)  # Add grid\n",
    "plt.show()"
   ]
  },
  {
   "cell_type": "markdown",
   "metadata": {},
   "source": [
    "From the provided BLEU and COMET scores for different prompts and text genres, we can draw several conclusions:\n",
    "\n",
    "1. Comparison of Prompt Performance:\n",
    "\n",
    "* Prompt 2 generally outperforms Prompt 1 in both BLEU and COMET metrics across all text genres. This indicates that Prompt 2 might be more effective in guiding the GPT-3.5-Turbo model to produce translations that are closer to the reference translations.\n",
    "2. Text Genre Comparison:\n",
    "\n",
    "* Legal texts exhibit higher scores on both BLEU and COMET metrics. This can be attributed to the presence of specialized terminology and structured language typical in legal documents. The use of precise legal terminology might result in high word and phrase overlap (as measured by BLEU), while maintaining semantic similarity (as captured by COMET).\n",
    "\n",
    "* Literature translations received high scores on BLEU but low scores on COMET, which is unexpected. Literary translations typically involve various interpretations and don't necessarily align closely with the reference. The lower COMET score might stem from the complexity of literary texts, resulting in lower semantic similarity scores.\n",
    "\n",
    "* Medical texts scored high on COMET but low on BLEU. This pattern can be explained by the presence of highly specialized terminology in medical documents. While the translations might accurately convey the meaning and maintain semantic similarity (as reflected in the high COMET scores), they might not have as high a word and phrase overlap with the reference translations due to the unique vocabulary and complex sentence structures.\n",
    "\n",
    "Overall Model Performance:\n",
    "\n",
    "The GPT-3.5-Turbo model demonstrates better performance in terms of semantic similarity (as measured by COMET) compared to word overlap (as measured by BLEU). This suggests that while the literal word overlap might vary, the overall meaning and semantic content of the translations are well-preserved.\n",
    "\n",
    "It would be beneficial to analyze specific examples where the model performs well/poorly to understand the strengths and weaknesses of the translations produced by each prompt and for each text genre.\n",
    "Fine-tuning the prompts, collecting a larger dataset, or exploring other techniques to improve translation quality, especially for challenging text genres like literature and medical texts, could be considered."
   ]
  }
 ],
 "metadata": {
  "kernelspec": {
   "display_name": "Python 3",
   "language": "python",
   "name": "python3"
  },
  "language_info": {
   "codemirror_mode": {
    "name": "ipython",
    "version": 3
   },
   "file_extension": ".py",
   "mimetype": "text/x-python",
   "name": "python",
   "nbconvert_exporter": "python",
   "pygments_lexer": "ipython3",
   "version": "3.10.7"
  }
 },
 "nbformat": 4,
 "nbformat_minor": 2
}
